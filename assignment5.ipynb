{
  "nbformat": 4,
  "nbformat_minor": 0,
  "metadata": {
    "colab": {
      "provenance": []
    },
    "kernelspec": {
      "name": "python3",
      "display_name": "Python 3"
    },
    "language_info": {
      "name": "python"
    }
  },
  "cells": [
    {
      "cell_type": "markdown",
      "source": [
        "Q1 - What are the five key concepts of Object - Oriented Programming (OOP) ?"
      ],
      "metadata": {
        "id": "0rlsvm9nm24h"
      }
    },
    {
      "cell_type": "markdown",
      "source": [
        "Ans - Here are the five key concepts of Object-Oriented Programming (OOP):\n",
        "\n",
        "1. **Classes:** Classes are the blueprints or templates for creating objects. They define the properties (attributes) and behaviors (methods) that objects of that class will have.\n",
        "2. **Objects:** Objects are instances of classes. They represent real-world entities with their own state (values of attributes) and behavior (methods).\n",
        "3. **Encapsulation:** Encapsulation is the bundling of data (attributes) and methods that operate on that data within a single unit (class). This protects the data from unauthorized access and modification, promoting data integrity.\n",
        "4. **Inheritance:** Inheritance is the mechanism by which one class (child class) inherits the properties and methods of another class (parent class). This promotes code reusability and creates a hierarchical relationship between classes.\n",
        "5. **Polymorphism:** Polymorphism allows objects of different classes to be treated as if they were objects of the same class. This enables flexibility and dynamic behavior in object-oriented programs. Polymorphism can be achieved through method overloading (different methods with the same name but different parameters) and method overriding (redefining a method in a child class to provide specific behavior).\n"
      ],
      "metadata": {
        "id": "kb7GXWGtm-Ic"
      }
    },
    {
      "cell_type": "markdown",
      "source": [
        "Q2 - Write a python class for a 'Car' with attributes for 'make' , 'model' , and 'year' . Include a method to display the car's information."
      ],
      "metadata": {
        "id": "DGhlGS3InJoV"
      }
    },
    {
      "cell_type": "code",
      "source": [
        "class Car:\n",
        "    def __init__(self, make, model, year):\n",
        "        self.make = make\n",
        "        self.model = model\n",
        "        self.year = year\n",
        "\n",
        "    def display_info(self):\n",
        "        print(f\"Make: {self.make}\")\n",
        "        print(f\"Model: {self.model}\")\n",
        "        print(f\"Year: {self.year}\")\n",
        "\n",
        "# Create a car object\n",
        "my_car = Car(\"Toyota\", \"Camry\", 2023)\n",
        "\n",
        "# Display the car's information\n",
        "my_car.display_info()"
      ],
      "metadata": {
        "colab": {
          "base_uri": "https://localhost:8080/"
        },
        "id": "8eqLB5rMnuS8",
        "outputId": "9b6b3649-aaf1-460e-95ca-30e030d74481"
      },
      "execution_count": null,
      "outputs": [
        {
          "output_type": "stream",
          "name": "stdout",
          "text": [
            "Make: Toyota\n",
            "Model: Camry\n",
            "Year: 2023\n"
          ]
        }
      ]
    },
    {
      "cell_type": "markdown",
      "source": [
        "Q3 - Explain the difference between instance methods and class methods. Provide an example of each."
      ],
      "metadata": {
        "id": "ijLLLWdqn_lC"
      }
    },
    {
      "cell_type": "markdown",
      "source": [
        "Ans - **Instance Methods**\n",
        "\n",
        "* **Belong to specific instances of a class.**\n",
        "* **Can access and modify the instance's attributes.**\n",
        "* **Use the `self` keyword to refer to the instance.**\n",
        "\n",
        "**Example:**\n",
        "\n",
        "```python\n",
        "class Car:\n",
        "    def __init__(self, make, model, year):\n",
        "        self.make = make\n",
        "        self.model = model\n",
        "        self.year = year\n",
        "\n",
        "    def display_info(self):\n",
        "        print(f\"Make: {self.make}\")\n",
        "        print(f\"Model: {self.model}\")\n",
        "        print(f\"Year: {self.year}\")\n",
        "```\n",
        "\n",
        "In this example, `display_info` is an instance method. It can only be called on a specific car object and accesses the attributes of that particular object.\n",
        "\n",
        "**Class Methods**\n",
        "\n",
        "* **Belong to the class itself, not specific instances.**\n",
        "* **Cannot access or modify instance attributes.**\n",
        "* **Use the `cls` keyword to refer to the class.**\n",
        "* **Often used for utility functions or creating class-level variables.**\n",
        "\n",
        "**Example:**\n",
        "\n",
        "```python\n",
        "class Car:\n",
        "    def __init__(self, make, model, year):\n",
        "        self.make = make\n",
        "        self.model = model\n",
        "        self.year = year\n",
        "\n",
        "    @classmethod\n",
        "    def from_string(cls, car_str):\n",
        "        make, model, year = car_str.split(',')\n",
        "        return cls(make, model, year)\n",
        "```\n",
        "\n",
        "In this example, `from_string` is a class method. It can be called directly on the `Car` class itself, without creating an instance. It takes a string representation of a car and creates a new `Car` object from it.\n"
      ],
      "metadata": {
        "id": "J1sjLsiNohDX"
      }
    },
    {
      "cell_type": "markdown",
      "source": [
        "Q4 - How does Python implement method overloading? Give an example."
      ],
      "metadata": {
        "id": "aNJvWVwXpXBP"
      }
    },
    {
      "cell_type": "markdown",
      "source": [
        "Ans - **Python Does Not Directly Support Method Overloading**\n",
        "\n",
        "Unlike languages like C++ and Java, Python doesn't have a direct mechanism for method overloading, where you can define multiple methods with the same name but different parameters.\n",
        "\n",
        "**However, Python provides a flexible way to achieve similar functionality through a combination of default arguments and variable-length arguments:**\n",
        "\n",
        "**1. Default Arguments:**\n",
        "You can define a method with default values for some parameters. This allows you to call the method with different numbers of arguments:\n",
        "\n",
        "```python\n",
        "def greet(name, greeting=\"Hello\"):\n",
        "    print(greeting, name)\n",
        "\n",
        "greet(\"Alice\")  # Output: Hello Alice\n",
        "greet(\"Bob\", \"Hi\")  # Output: Hi Bob\n",
        "```\n",
        "\n",
        "**2. Variable-Length Arguments:**\n",
        "You can use `*args` to accept a variable number of positional arguments and `**kwargs` to accept a variable number of keyword arguments:\n",
        "\n",
        "```python\n",
        "def sum_numbers(*args):\n",
        "    total = 0\n",
        "    for num in args:\n",
        "        total += num\n",
        "    return total\n",
        "\n",
        "print(sum_numbers(1, 2, 3))  # Output: 6\n",
        "print(sum_numbers(4, 5, 6, 7))  # Output: 22\n",
        "```\n",
        "\n",
        "**3. Type Hints (Optional):**\n",
        "While not strictly related to method overloading, type hints can be used to provide information about the expected types of arguments. This can help with code readability and can be leveraged by static type checkers:\n",
        "\n",
        "```python\n",
        "def add(a: int, b: int) -> int:\n",
        "    return a + b\n",
        "\n",
        "print(add(2, 3))  # Output: 5\n",
        "```\n",
        "\n",
        "**Key Points to Remember:**\n",
        "- Python prioritizes simplicity and flexibility.\n",
        "- The combination of default arguments and variable-length arguments provides a powerful way to handle different argument scenarios.\n",
        "- Type hints are optional but can enhance code clarity."
      ],
      "metadata": {
        "id": "lAfBts1Kp2_O"
      }
    },
    {
      "cell_type": "markdown",
      "source": [
        "Q5 - What are the three types of access modifiers in Python?How are they denoted?"
      ],
      "metadata": {
        "id": "QPPj8egBqAdF"
      }
    },
    {
      "cell_type": "markdown",
      "source": [
        "Ans - Python uses a naming convention with underscores to indicate access levels:\n",
        "\n",
        "1. **Public:**\n",
        "   - No underscore prefix.\n",
        "   - Accessible from anywhere, both within and outside the class.\n",
        "   - **Example:**\n",
        "     ```python\n",
        "     class MyClass:\n",
        "         def public_method(self):\n",
        "             print(\"This is a public method.\")\n",
        "     ```\n",
        "\n",
        "2. **Protected:**\n",
        "   - Single underscore prefix (`_`).\n",
        "   - Accessible within the class and its subclasses.\n",
        "   - **Example:**\n",
        "     ```python\n",
        "     class MyClass:\n",
        "         def __init__(self):\n",
        "             self._protected_attribute = \"Protected data\"\n",
        "     ```\n",
        "\n",
        "3. **Private:**\n",
        "   - Double underscore prefix (`__`).\n",
        "   - Accessible only within the class itself.\n",
        "   - **Example:**\n",
        "     ```python\n",
        "     class MyClass:\n",
        "         def __private_method(self):\n",
        "             print(\"This is a private method.\")\n",
        "     ```"
      ],
      "metadata": {
        "id": "R84Q6WX7qeYD"
      }
    },
    {
      "cell_type": "markdown",
      "source": [
        "Q6 - Describe the five types of inheritance in Python. Provide a simple example of multiple inheritance."
      ],
      "metadata": {
        "id": "iOkcQybPqooB"
      }
    },
    {
      "cell_type": "markdown",
      "source": [
        "Ans - Python supports five types of inheritance:\n",
        "\n",
        "1. **Single Inheritance:**\n",
        "   - A class inherits from only one parent class.\n",
        "   - Example:\n",
        "     ```python\n",
        "     class Parent:\n",
        "         def parent_method(self):\n",
        "             print(\"Parent method\")\n",
        "\n",
        "     class Child(Parent):\n",
        "         def child_method(self):\n",
        "             print(\"Child method\")\n",
        "     ```\n",
        "\n",
        "2. **Multiple Inheritance:**\n",
        "   - A class inherits from multiple parent classes.\n",
        "   - Example:\n",
        "     ```python\n",
        "     class Parent1:\n",
        "         def parent1_method(self):\n",
        "             print(\"Parent 1 method\")\n",
        "\n",
        "     class Parent2:\n",
        "         def parent2_method(self):\n",
        "             print(\"Parent 2 method\")\n",
        "\n",
        "     class Child(Parent1, Parent2):\n",
        "         def child_method(self):\n",
        "             print(\"Child method\")\n",
        "     ```\n",
        "\n",
        "3. **Multilevel Inheritance:**\n",
        "   - A class inherits from a derived class.\n",
        "   - Example:\n",
        "     ```python\n",
        "     class Grandparent:\n",
        "         def grandparent_method(self):\n",
        "             print(\"Grandparent method\")\n",
        "\n",
        "     class Parent(Grandparent):\n",
        "         def parent_method(self):\n",
        "             print(\"Parent method\")\n",
        "\n",
        "     class Child(Parent):\n",
        "         def child_method(self):\n",
        "             print(\"Child method\")\n",
        "     ```\n",
        "\n",
        "4. **Hierarchical Inheritance:**\n",
        "   - Multiple child classes inherit from a single parent class.\n",
        "   - Example:\n",
        "     ```python\n",
        "     class Parent:\n",
        "         def parent_method(self):\n",
        "             print(\"Parent method\")\n",
        "\n",
        "     class Child1(Parent):\n",
        "         def child1_method(self):\n",
        "             print(\"Child 1 method\")\n",
        "\n",
        "     class Child2(Parent):\n",
        "         def child2_method(self):\n",
        "             print(\"Child 2 method\")\n",
        "     ```\n",
        "\n",
        "5. **Hybrid Inheritance:**\n",
        "   - A combination of multiple inheritance types.\n",
        "   - Example:\n",
        "     ```python\n",
        "     class A:\n",
        "         def a_method(self):\n",
        "             print(\"A method\")\n",
        "\n",
        "     class B(A):\n",
        "         def b_method(self):\n",
        "             print(\"B method\")\n",
        "\n",
        "     class C:\n",
        "         def c_method(self):\n",
        "             print(\"C method\")\n",
        "\n",
        "     class D(B, C):\n",
        "         def d_method(self):\n",
        "             print(\"D method\")\n",
        "     ```\n",
        "\n",
        "In the multiple inheritance example, the `Child` class inherits attributes and methods from both `Parent1` and `Parent2`. If there's a method with the same name in both parent classes, Python follows the Method Resolution Order (MRO) to determine which method to call.\n"
      ],
      "metadata": {
        "id": "dAWNUT6wrQKn"
      }
    },
    {
      "cell_type": "markdown",
      "source": [
        "Q7 - What is the Method Resolution Order (MRO) in Python? How can you retrieve it programmatically?"
      ],
      "metadata": {
        "id": "GZSU3KLDrdSS"
      }
    },
    {
      "cell_type": "markdown",
      "source": [
        "Ans - **Method Resolution Order (MRO)** in Python determines the order in which methods are searched for when a method call is made on an object. This is crucial, especially in multiple inheritance scenarios, to avoid ambiguity and ensure that the correct method is invoked.\n",
        "\n",
        "**How to Retrieve MRO Programmatically:**\n",
        "\n",
        "You can use the `__mro__` attribute of a class to access its MRO as a tuple:\n",
        "\n",
        "```python\n",
        "class A:\n",
        "    def method(self):\n",
        "        print(\"A's method\")\n",
        "\n",
        "class B(A):\n",
        "    pass\n",
        "\n",
        "class C(A):\n",
        "    def method(self):\n",
        "        print(\"C's method\")\n",
        "\n",
        "class D(B, C):\n",
        "    pass\n",
        "\n",
        "print(D.__mro__)  # Output: (<class '__main__.D'>, <class '__main__.B'>, <class '__main__.C'>, <class '__main__.A'>, <class 'object'>)\n",
        "```\n",
        "\n",
        "**Understanding MRO:**\n",
        "\n",
        "Python uses a C3 linearization algorithm to determine the MRO. This algorithm ensures that:\n",
        "\n",
        "1. **Child classes are searched before parent classes.**\n",
        "2. **Multiple parent classes are searched in the order they are inherited.**\n",
        "3. **Ambiguities are resolved by prioritizing the leftmost parent class.**\n",
        "\n",
        "In the above example, if you call the `method()` on an instance of `D`, the following order will be followed:\n",
        "\n",
        "1. `D`'s method (if defined)\n",
        "2. `B`'s method (if defined)\n",
        "3. `C`'s method (if defined)\n",
        "4. `A`'s method (if defined)\n",
        "5. `object`'s method (if defined)\n",
        "\n",
        "**Why MRO Matters:**\n",
        "\n",
        "- **Correct Method Resolution:** Ensures that the correct method is invoked.\n",
        "- **Avoiding Ambiguity:** Prevents conflicts when multiple parent classes have methods with the same name.\n",
        "- **Code Readability:** Understanding MRO helps in writing clear and maintainable code.\n",
        "\n",
        "By understanding MRO and using the `__mro__` attribute, you can effectively work with inheritance in Python and write robust object-oriented code.\n"
      ],
      "metadata": {
        "id": "4OJHaPd2sHUL"
      }
    },
    {
      "cell_type": "markdown",
      "source": [
        "Q8 - Create an abstract base class 'Shape' with an abstract method 'area()'. Then create two subclasses 'Circle' and 'Rectangle' that implement the 'area()' method."
      ],
      "metadata": {
        "id": "iMI2ynUNsNba"
      }
    },
    {
      "cell_type": "code",
      "source": [
        "from abc import ABC, abstractmethod\n",
        "\n",
        "class Shape(ABC):\n",
        "    @abstractmethod\n",
        "    def area(self):\n",
        "        pass\n",
        "\n",
        "class Circle(Shape):\n",
        "    def __init__(self, radius):\n",
        "        self.radius = radius\n",
        "\n",
        "    def area(self):\n",
        "        return 3.14159 * self.radius * self.radius\n",
        "\n",
        "class Rectangle(Shape):\n",
        "    def __init__(self, length, width):\n",
        "        self.length = length\n",
        "        self.width = width\n",
        "\n",
        "    def area(self):\n",
        "        return self.length * self.width\n",
        "\n",
        "# Example usage\n",
        "circle = Circle(5)\n",
        "rectangle = Rectangle(4, 6)\n",
        "\n",
        "print(\"Area of circle:\", circle.area())\n",
        "print(\"Area of rectangle:\", rectangle.area())"
      ],
      "metadata": {
        "colab": {
          "base_uri": "https://localhost:8080/"
        },
        "id": "jiTiHRo-tlgn",
        "outputId": "9601e070-5797-4e9b-9627-fab36ad01bb6"
      },
      "execution_count": 1,
      "outputs": [
        {
          "output_type": "stream",
          "name": "stdout",
          "text": [
            "Area of circle: 78.53975\n",
            "Area of rectangle: 24\n"
          ]
        }
      ]
    },
    {
      "cell_type": "markdown",
      "source": [
        "**Explanation:**\n",
        "\n",
        "1. **Abstract Base Class `Shape`:**\n",
        "   - Inherits from `ABC` to define it as an abstract base class.\n",
        "   - Declares an abstract method `area()` using `@abstractmethod` decorator. This method must be implemented by subclasses.\n",
        "\n",
        "2. **Concrete Subclass `Circle`:**\n",
        "   - Inherits from `Shape`.\n",
        "   - Defines a constructor to initialize the radius.\n",
        "   - Implements the `area()` method to calculate the area of a circle using the formula πr².\n",
        "\n",
        "3. **Concrete Subclass `Rectangle`:**\n",
        "   - Inherits from `Shape`.\n",
        "   - Defines a constructor to initialize the length and width.\n",
        "   - Implements the `area()` method to calculate the area of a rectangle using the formula length × width.\n",
        "\n",
        "This code demonstrates the use of abstract base classes and polymorphism in Python. The `area()` method is defined in the abstract base class, but its implementation varies depending on the specific shape. This allows for flexible and reusable code.\n"
      ],
      "metadata": {
        "id": "9se5S8WGtm4G"
      }
    },
    {
      "cell_type": "markdown",
      "source": [
        "Q9 - Demonstrate polymorphism by creating a function that can work with different shape objects to calculate and print their areas."
      ],
      "metadata": {
        "id": "ldwSRAevuB6F"
      }
    },
    {
      "cell_type": "code",
      "source": [
        "from abc import ABC, abstractmethod\n",
        "\n",
        "class Shape(ABC):\n",
        "    @abstractmethod\n",
        "    def area(self):\n",
        "        pass\n",
        "\n",
        "class Circle(Shape):\n",
        "    def __init__(self, radius):\n",
        "        self.radius = radius\n",
        "\n",
        "    def area(self):\n",
        "        return 3.14159 * self.radius * self.radius\n",
        "\n",
        "class Rectangle(Shape):\n",
        "    def __init__(self, length, width):\n",
        "        self.length = length\n",
        "        self.width = width\n",
        "\n",
        "    def area(self):\n",
        "        return self.length * self.width\n",
        "\n",
        "def calculate_area(shape):\n",
        "    print(\"Area:\", shape.area())\n",
        "\n",
        "# Create instances of different shapes\n",
        "circle = Circle(5)\n",
        "rectangle = Rectangle(4, 6)\n",
        "\n",
        "# Calculate and print the areas using the same function\n",
        "calculate_area(circle)\n",
        "calculate_area(rectangle)"
      ],
      "metadata": {
        "colab": {
          "base_uri": "https://localhost:8080/"
        },
        "id": "I9ZLmB2EupUi",
        "outputId": "9e8db0fa-cad6-4ef4-c4b6-1f9701540934"
      },
      "execution_count": 2,
      "outputs": [
        {
          "output_type": "stream",
          "name": "stdout",
          "text": [
            "Area: 78.53975\n",
            "Area: 24\n"
          ]
        }
      ]
    },
    {
      "cell_type": "markdown",
      "source": [
        "**Explanation:**\n",
        "\n",
        "1. **Abstract Base Class `Shape`:**\n",
        "   - Defines the `area()` method as abstract, ensuring that subclasses must implement it.\n",
        "\n",
        "2. **Concrete Subclasses `Circle` and `Rectangle`:**\n",
        "   - Inherit from `Shape` and provide specific implementations for `area()`.\n",
        "\n",
        "3. **`calculate_area()` Function:**\n",
        "   - Takes a `Shape` object as input.\n",
        "   - Calls the `area()` method on the object, which is polymorphic.\n",
        "   - The appropriate `area()` implementation is selected based on the object's type.\n",
        "\n",
        "**How Polymorphism Works Here:**\n",
        "\n",
        "- The `calculate_area()` function doesn't need to know the specific type of shape object it receives.\n",
        "- It relies on the `area()` method being defined in the `Shape` class and implemented differently in its subclasses.\n",
        "- When the function calls `shape.area()`, Python dynamically selects the correct implementation based on the object's type (Circle or Rectangle).\n",
        "\n",
        "This demonstrates polymorphism, where objects of different types can be treated as if they were of the same type, allowing for code flexibility and reusability.\n"
      ],
      "metadata": {
        "id": "CS9Gw3Beus_s"
      }
    },
    {
      "cell_type": "markdown",
      "source": [
        "Q10 - Implement encapsulation in a 'BankAccount' class with private attributes for 'balance' and 'account_number'. Include methods for deposit, withdrawal, and balance inquiry."
      ],
      "metadata": {
        "id": "JyVUdAwZvFH1"
      }
    },
    {
      "cell_type": "code",
      "source": [
        "class BankAccount:\n",
        "    def __init__(self, account_number, initial_balance):\n",
        "        self.__account_number = account_number\n",
        "        self.__balance = initial_balance\n",
        "\n",
        "    def deposit(self, amount):\n",
        "        if amount > 0:\n",
        "            self.__balance += amount\n",
        "            print(f\"Deposited {amount}. New balance: {self.__balance}\")\n",
        "        else:\n",
        "            print(\"Invalid deposit amount.\")\n",
        "\n",
        "    def withdraw(self, amount):\n",
        "        if 0 < amount <= self.__balance:\n",
        "            self.__balance -= amount\n",
        "            print(f\"Withdrew {amount}. New balance: {self.__balance}\")\n",
        "        elif amount > self.__balance:\n",
        "            print(\"Insufficient balance.\")\n",
        "        else:\n",
        "            print(\"Invalid withdrawal amount.\")\n",
        "\n",
        "    def check_balance(self):\n",
        "        print(f\"Your current balance is: {self.__balance}\")\n",
        "\n",
        "# Example usage\n",
        "account = BankAccount(\"12345\", 1000)\n",
        "account.deposit(500)\n",
        "account.withdraw(200)\n",
        "account.check_balance()"
      ],
      "metadata": {
        "colab": {
          "base_uri": "https://localhost:8080/"
        },
        "id": "RB6DZVPvv5or",
        "outputId": "54acea9b-6e5b-403f-c930-20223e33c9f0"
      },
      "execution_count": 3,
      "outputs": [
        {
          "output_type": "stream",
          "name": "stdout",
          "text": [
            "Deposited 500. New balance: 1500\n",
            "Withdrew 200. New balance: 1300\n",
            "Your current balance is: 1300\n"
          ]
        }
      ]
    },
    {
      "cell_type": "markdown",
      "source": [
        "**Explanation:**\n",
        "\n",
        "1. **Private Attributes:**\n",
        "   - `__account_number` and `__balance` are declared as private attributes using double underscores. This prevents direct access from outside the class.\n",
        "\n",
        "2. **Public Methods:**\n",
        "   - `deposit()`: Takes an amount as input, checks if it's valid, and adds it to the balance.\n",
        "   - `withdraw()`: Takes an amount as input, checks if it's valid and if there's sufficient balance, and subtracts it from the balance.\n",
        "   - `check_balance()`: Prints the current balance.\n",
        "\n",
        "3. **Encapsulation:**\n",
        "   - The class encapsulates the account's data (account number and balance) and provides controlled access through public methods.\n",
        "   - This protects the data integrity and prevents accidental modification.\n",
        "\n",
        "By using encapsulation, we ensure that the account's state can only be modified through the defined methods, maintaining data consistency and security.\n"
      ],
      "metadata": {
        "id": "hp7PTZygv8PW"
      }
    },
    {
      "cell_type": "markdown",
      "source": [
        "Q11 - Write a class that overrides the '__str__' and '__add__' magic methods. What will these methods allow you to do?"
      ],
      "metadata": {
        "id": "kjweCXVUwLb_"
      }
    },
    {
      "cell_type": "code",
      "source": [
        "class Person:\n",
        "    def __init__(self, name, age):\n",
        "        self.name = name\n",
        "        self.age = age\n",
        "\n",
        "    def __str__(self):\n",
        "        return f\"Person: {self.name}, Age: {self.age}\"\n",
        "\n",
        "    def __add__(self, other):\n",
        "        return self.age + other.age\n",
        "\n",
        "# Create instances\n",
        "person1 = Person(\"Alice\", 30)\n",
        "person2 = Person(\"Bob\", 25)\n",
        "\n",
        "# Using __str__\n",
        "print(person1)  # Output: Person: Alice, Age: 30\n",
        "\n",
        "# Using __add__\n",
        "total_age = person1 + person2\n",
        "print(total_age)  # Output: 55"
      ],
      "metadata": {
        "colab": {
          "base_uri": "https://localhost:8080/"
        },
        "id": "kzw63qQX1JbH",
        "outputId": "3ed73429-2a44-42ca-b0ec-2d4d6315a53a"
      },
      "execution_count": 4,
      "outputs": [
        {
          "output_type": "stream",
          "name": "stdout",
          "text": [
            "Person: Alice, Age: 30\n",
            "55\n"
          ]
        }
      ]
    },
    {
      "cell_type": "markdown",
      "source": [
        "**Explanation:**\n",
        "\n",
        "- **`__str__(self)`:**\n",
        "  - This method is called when you try to print an object of the class or convert it to a string.\n",
        "  - It allows you to customize the string representation of the object.\n",
        "  - In the example, it returns a formatted string containing the person's name and age.\n",
        "\n",
        "- **`__add__(self, other)`:**\n",
        "  - This method is called when you use the `+` operator on two objects of the class.\n",
        "  - It allows you to define custom behavior for addition.\n",
        "  - In the example, it adds the ages of the two people.\n",
        "\n",
        "By overriding these magic methods, you can control how objects of your class are represented as strings and how they behave in arithmetic operations. This can make your code more readable and intuitive.\n"
      ],
      "metadata": {
        "id": "-6s3JoIS1Moh"
      }
    },
    {
      "cell_type": "markdown",
      "source": [
        "Q12 - Create a decorator that measures and prints the execution time of a function."
      ],
      "metadata": {
        "id": "gIt1lbz_1VaF"
      }
    },
    {
      "cell_type": "code",
      "source": [
        "import time\n",
        "\n",
        "def measure_time(func):\n",
        "    def wrapper(*args, **kwargs):\n",
        "        start_time = time.time()\n",
        "        result = func(*args, **kwargs)\n",
        "        end_time = time.time()\n",
        "        print(f\"Function {func.__name__} took {end_time - start_time:.4f} seconds to execute.\")\n",
        "        return result\n",
        "    return wrapper\n",
        "\n",
        "@measure_time\n",
        "def my_function():\n",
        "    # Some time-consuming operation here\n",
        "    time.sleep(2)\n",
        "    print(\"Function executed\")\n",
        "\n",
        "my_function()"
      ],
      "metadata": {
        "colab": {
          "base_uri": "https://localhost:8080/"
        },
        "id": "xZ9qnypN1tFD",
        "outputId": "e98e5971-4a15-42e7-ed47-62b49c0c9de8"
      },
      "execution_count": 5,
      "outputs": [
        {
          "output_type": "stream",
          "name": "stdout",
          "text": [
            "Function executed\n",
            "Function my_function took 2.0023 seconds to execute.\n"
          ]
        }
      ]
    },
    {
      "cell_type": "markdown",
      "source": [
        "**Explanation:**\n",
        "\n",
        "1. **Decorator Function `measure_time`:**\n",
        "   - Takes a function `func` as input.\n",
        "   - Defines a wrapper function that:\n",
        "     - Measures the start time.\n",
        "     - Calls the original function `func`.\n",
        "     - Measures the end time.\n",
        "     - Calculates the execution time and prints it.\n",
        "     - Returns the result of the original function.\n",
        "\n",
        "2. **Decorator Usage:**\n",
        "   - The `@measure_time` decorator is applied to the `my_function`.\n",
        "   - This effectively replaces `my_function` with the `wrapper` function.\n",
        "\n",
        "3. **Execution:**\n",
        "   - When `my_function()` is called, the `wrapper` function takes over.\n",
        "   - The start time is recorded.\n",
        "   - The original `my_function` is executed.\n",
        "   - The end time is recorded.\n",
        "   - The execution time is calculated and printed.\n",
        "   - The result of `my_function` is returned.\n",
        "\n",
        "This decorator provides a convenient way to measure the performance of functions and identify potential bottlenecks in your code.\n"
      ],
      "metadata": {
        "id": "jTV_VBMj1vpA"
      }
    },
    {
      "cell_type": "markdown",
      "source": [
        "Q13 - Explain the concept of the Diamond Problem in multiple inheritance.How does Python resolve it?"
      ],
      "metadata": {
        "id": "33qLNlN515_V"
      }
    },
    {
      "cell_type": "markdown",
      "source": [
        "Ans - The Diamond Problem arises in multiple inheritance when you have a class hierarchy that forms a diamond shape due to inheritance paths. Here's the breakdown:\n",
        "\n",
        "**Scenario:**\n",
        "\n",
        "- Imagine two classes, `B` and `C`, inheriting from a common ancestor class, `A`.\n",
        "- Now, a new class, `D`, inherits from both `B` and `C`.\n",
        "\n",
        "**Problem:**\n",
        "\n",
        "- Both `B` and `C` might have methods or attributes with the same name as those in `A`.\n",
        "- When you call such a method on an instance of `D`, it becomes ambiguous which version (from `B` or `C`) should be called. This creates confusion and potential errors.\n",
        "\n",
        "**Python's Approach (No Diamond Problem):**\n",
        "\n",
        "- Unlike languages like C++, Python doesn't have a strict Diamond Problem.\n",
        "- This is because Python uses a concept called **Method Resolution Order (MRO)**.\n",
        "\n",
        "**MRO (Method Resolution Order):**\n",
        "\n",
        "- MRO defines the order in which Python searches for methods when a call is made on an object.\n",
        "- It prioritizes classes appearing earlier in the inheritance list.\n",
        "- In the diamond problem scenario, Python would follow the MRO to determine the correct method to call on an instance of `D`.\n",
        "\n",
        "**Example:**\n",
        "\n",
        "```python\n",
        "class A:\n",
        "    def method(self):\n",
        "        print(\"A's method\")\n",
        "\n",
        "class B(A):\n",
        "    pass\n",
        "\n",
        "class C(A):\n",
        "    def method(self):\n",
        "        print(\"C's method\")\n",
        "\n",
        "class D(B, C):\n",
        "    pass\n",
        "\n",
        "obj = D()\n",
        "obj.method()  # Output: A's method (assuming B appears before C in MRO)\n",
        "```\n",
        "\n",
        "**Why No Real Diamond Problem:**\n",
        "\n",
        "- Python doesn't directly define how classes inherit from other classes. Instead, it relies on a mechanism called **Name Resolution**.\n",
        "- During name resolution, Python searches for attributes and methods in the MRO.\n",
        "- If an attribute or method is found in a class higher up in the MRO, it's used directly, avoiding the ambiguity that the Diamond Problem presents.\n",
        "\n",
        "**Key Points:**\n",
        "\n",
        "- While Python doesn't have a classic Diamond Problem due to its approach to inheritance, it's still essential to be aware of MRO and how Python resolves method calls in complex inheritance hierarchies.\n",
        "- Overly complex inheritance structures can lead to confusion and maintenance difficulties. Consider alternative approaches like composition (using objects as attributes) if appropriate."
      ],
      "metadata": {
        "id": "HqTWOv632WQC"
      }
    },
    {
      "cell_type": "markdown",
      "source": [
        "Q14 - Write a class method that keeps track of the number of instances created from a class."
      ],
      "metadata": {
        "id": "Mbp7tKz_2ZMf"
      }
    },
    {
      "cell_type": "code",
      "source": [
        "class MyClass:\n",
        "    instance_count = 0\n",
        "\n",
        "    def __init__(self):\n",
        "        MyClass.instance_count += 1\n",
        "\n",
        "    @classmethod\n",
        "    def get_instance_count(cls):\n",
        "        return cls.instance_count\n",
        "\n",
        "# Create multiple instances\n",
        "obj1 = MyClass()\n",
        "obj2 = MyClass()\n",
        "obj3 = MyClass()\n",
        "\n",
        "print(\"Total instances:\", MyClass.get_instance_count())  # Output: 3"
      ],
      "metadata": {
        "colab": {
          "base_uri": "https://localhost:8080/"
        },
        "id": "VPcRGgfM29L0",
        "outputId": "0f148c68-b9ba-4ba5-ae7f-99307b81c909"
      },
      "execution_count": 6,
      "outputs": [
        {
          "output_type": "stream",
          "name": "stdout",
          "text": [
            "Total instances: 3\n"
          ]
        }
      ]
    },
    {
      "cell_type": "markdown",
      "source": [
        "**Explanation:**\n",
        "\n",
        "1. **Class Attribute `instance_count`:**\n",
        "   - This attribute is defined at the class level, meaning it's shared by all instances of the class.\n",
        "   - It's initialized to 0 to keep track of the total number of instances.\n",
        "\n",
        "2. **`__init__` Method:**\n",
        "   - This method is called whenever a new instance is created.\n",
        "   - It increments the `instance_count` by 1.\n",
        "\n",
        "3. **`get_instance_count()` Class Method:**\n",
        "   - This class method can be called directly on the class itself (`MyClass.get_instance_count()`) without creating an instance.\n",
        "   - It returns the current value of the `instance_count`.\n",
        "\n",
        "By using this approach, you can effectively track the number of instances created from a class.\n"
      ],
      "metadata": {
        "id": "gOTr2T2K2_He"
      }
    },
    {
      "cell_type": "markdown",
      "source": [
        "Q15 - Implement a static method in a class that checks if a given year is a leap year."
      ],
      "metadata": {
        "id": "B88k1jqm3Hle"
      }
    },
    {
      "cell_type": "code",
      "source": [
        "class YearChecker:\n",
        "    @staticmethod\n",
        "    def is_leap_year(year):\n",
        "        if year % 4 == 0:\n",
        "            if year % 100 == 0:\n",
        "                if year % 400 == 0:\n",
        "                    return True\n",
        "                else:\n",
        "                    return False\n",
        "            else:\n",
        "                return True\n",
        "        else:\n",
        "            return False\n",
        "\n",
        "# Example usage\n",
        "year = 2024\n",
        "if YearChecker.is_leap_year(year):\n",
        "    print(f\"{year} is a leap year.\")\n",
        "else:\n",
        "    print(f\"{year} is not a leap year.\")"
      ],
      "metadata": {
        "colab": {
          "base_uri": "https://localhost:8080/"
        },
        "id": "s8Dr6dHm3b60",
        "outputId": "db6f1256-65ff-4c4c-d8ad-1c0fb866c9a7"
      },
      "execution_count": 7,
      "outputs": [
        {
          "output_type": "stream",
          "name": "stdout",
          "text": [
            "2024 is a leap year.\n"
          ]
        }
      ]
    },
    {
      "cell_type": "markdown",
      "source": [
        "**Explanation:**\n",
        "\n",
        "1. **Static Method `is_leap_year()`:**\n",
        "   - Declared using the `@staticmethod` decorator.\n",
        "   - Takes a `year` as input.\n",
        "   - Implements the leap year logic:\n",
        "     - If the year is divisible by 4:\n",
        "       - If it's also divisible by 100:\n",
        "         - It's a leap year only if it's divisible by 400.\n",
        "       - Otherwise, it's a leap year.\n",
        "     - If the year is not divisible by 4, it's not a leap year.\n",
        "\n",
        "2. **Example Usage:**\n",
        "   - Creates a variable `year` and assigns a value.\n",
        "   - Calls the `is_leap_year()` method on the `YearChecker` class, passing the `year` as an argument.\n",
        "   - Prints the result based on the return value of the method."
      ],
      "metadata": {
        "id": "tPDpFjB83eAB"
      }
    }
  ]
}